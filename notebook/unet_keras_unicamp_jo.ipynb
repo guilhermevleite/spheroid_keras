{
 "cells": [
  {
   "cell_type": "markdown",
   "metadata": {
    "id": "U4Okmro25cjA"
   },
   "source": [
    "# Requirements"
   ]
  },
  {
   "cell_type": "code",
   "execution_count": 1,
   "metadata": {
    "id": "iqMOY5mv7cMn"
   },
   "outputs": [],
   "source": [
    "# from google.colab import drive\n",
    "from keras.utils.data_utils import Sequence\n",
    "from keras.layers import Input, Conv2D, BatchNormalization, MaxPooling2D, UpSampling2D\n",
    "from keras.callbacks import EarlyStopping\n",
    "from keras.models import Sequential\n",
    "from keras import backend as K\n",
    "import skimage\n",
    "import numpy as np\n",
    "import os\n",
    "import cv2"
   ]
  },
  {
   "cell_type": "code",
   "execution_count": 2,
   "metadata": {
    "id": "8Aw-RmMKgPPj"
   },
   "outputs": [
    {
     "name": "stderr",
     "output_type": "stream",
     "text": [
      "Matplotlib created a temporary config/cache directory at /tmp/matplotlib-jmeyo6ki because the default path (/.config/matplotlib) is not a writable directory; it is highly recommended to set the MPLCONFIGDIR environment variable to a writable directory, in particular to speed up the import of Matplotlib and to better support multiprocessing.\n"
     ]
    }
   ],
   "source": [
    "from numpy.random import seed\n",
    "import os\n",
    "import random\n",
    "import numpy as np\n",
    "import skimage\n",
    "import matplotlib.pyplot as plt\n",
    "from keras.models import *\n",
    "from keras.layers import *\n",
    "from keras.optimizers import *\n",
    "from keras import callbacks\n",
    "from keras.callbacks import ModelCheckpoint, LearningRateScheduler, ReduceLROnPlateau, TensorBoard, EarlyStopping\n",
    "from keras.layers import Input, Activation, Conv2D, MaxPooling2D, UpSampling2D, Dense, Cropping2D, Dropout, Concatenate, BatchNormalization\n",
    "from keras import backend as keras\n",
    "from keras import losses, metrics\n",
    "import numpy as np\n",
    "import matplotlib.pyplot as plt\n",
    "from keras.models import Sequential\n",
    "from tensorflow.keras.backend import flatten\n",
    "from PIL import Image\n",
    "from datetime import datetime"
   ]
  },
  {
   "cell_type": "code",
   "execution_count": 3,
   "metadata": {
    "colab": {
     "base_uri": "https://localhost:8080/"
    },
    "id": "-pHI1GKa7hZa",
    "outputId": "9ed71cfe-d74e-41e9-9911-db292178b851"
   },
   "outputs": [],
   "source": [
    "# drive.mount('/content/drive')"
   ]
  },
  {
   "cell_type": "code",
   "execution_count": 4,
   "metadata": {
    "id": "5lRE0Yv9cZBT"
   },
   "outputs": [],
   "source": [
    "# %cd /content/drive/MyDrive/db/segmentation\n",
    "# !unzip sartorius.zip"
   ]
  },
  {
   "cell_type": "code",
   "execution_count": 5,
   "metadata": {
    "colab": {
     "base_uri": "https://localhost:8080/"
    },
    "id": "md4gi6pzHryV",
    "outputId": "890f7656-9662-4683-d5f9-deee63b5783f"
   },
   "outputs": [
    {
     "name": "stdout",
     "output_type": "stream",
     "text": [
      "Version:  2.9.1\n"
     ]
    }
   ],
   "source": [
    "print(\"Version: \", tf.version.VERSION)"
   ]
  },
  {
   "cell_type": "markdown",
   "metadata": {
    "id": "yeCqbd7o5geK"
   },
   "source": [
    "# Dataset"
   ]
  },
  {
   "cell_type": "code",
   "execution_count": 6,
   "metadata": {
    "id": "G481WjU060rR"
   },
   "outputs": [],
   "source": [
    "class DataGenerator(Sequence):\n",
    "    'Generates data for Keras'\n",
    "    \n",
    "    def __init__(self, batch_size, dim, input_img_paths, shuffle=True):\n",
    "        self.batch_size = batch_size\n",
    "        self.dim = dim\n",
    "        self.input_img_paths = input_img_paths\n",
    "        self.shuffle = shuffle\n",
    "\n",
    "        self.input_img_paths.sort()\n",
    "        if self.shuffle:\n",
    "          random.shuffle(self.input_img_paths)\n",
    "       \n",
    "\n",
    "    def __len__(self):\n",
    "        'Denotes the number of batches per epoch'\n",
    "        return len(self.input_img_paths) // self.batch_size\n",
    "\n",
    "\n",
    "    def __getitem__(self, idx):\n",
    "        'Generate one batch of data'\n",
    "        i = idx * self.batch_size  \n",
    "\n",
    "        batch_input_img_paths = self.input_img_paths[i : i + self.batch_size]\n",
    "\n",
    "        X = self._generate_X(batch_input_img_paths)\n",
    "        y = self._generate_y(batch_input_img_paths)\n",
    "        \n",
    "        return X,y\n",
    "\n",
    "    # Shuffle order in which model recieves data\n",
    "    def on_epoch_end(self):\n",
    "        if self.shuffle:\n",
    "          random.shuffle(self.input_img_paths)\n",
    "\n",
    "\n",
    "    # Normalizes values of a matrix between 0 and 1\n",
    "    def myNormalization(self, data):\n",
    "        return (data - np.min(data)) / (np.max(data) - np.min(data))\n",
    "\n",
    "\n",
    "    def _load_input_image(self, image_path):\n",
    "        'Load input image'\n",
    "\n",
    "        img = cv2.imread(image_path, 0)\n",
    "\n",
    "        img = cv2.resize(img, (224,224))\n",
    "        img = self.myNormalization(img)\n",
    "\n",
    "        return img\n",
    "\n",
    "\n",
    "    def _load_target_image(self, image_path):\n",
    "        'Load target image'\n",
    "\n",
    "        img = cv2.imread(image_path, 0)\n",
    "\n",
    "        img = cv2.resize(img, (224,224), interpolation=cv2.INTER_NEAREST)\n",
    "        img = self.myNormalization(img)\n",
    "        img = np.uint8(img)\n",
    "\n",
    "        return img\n",
    "\n",
    "\n",
    "    def _generate_X(self, batch_input_img_paths):\n",
    "        'Generates data containing batch_size images'\n",
    "        X = np.empty((self.batch_size, *self.dim))\n",
    "        \n",
    "        for i, path in enumerate(batch_input_img_paths):\n",
    "            X[i,] = np.reshape(self._load_input_image(path), (224,224,1))\n",
    "            \n",
    "        return X\n",
    "    \n",
    "    def _generate_y(self, batch_input_img_paths):\n",
    "        'Generates data containing batch_size masks'\n",
    "        y =  np.empty((self.batch_size, *self.dim))\n",
    "        \n",
    "        for i, path in enumerate(batch_input_img_paths):\n",
    "            y[i,] = np.reshape(self._load_target_image(path.replace('images','masks')), (224,224,1))\n",
    "            \n",
    "        return y"
   ]
  },
  {
   "cell_type": "markdown",
   "metadata": {
    "id": "SA0NccdU5kmZ"
   },
   "source": [
    "# Utils"
   ]
  },
  {
   "cell_type": "code",
   "execution_count": 7,
   "metadata": {
    "id": "f4eJlkkwgYSQ"
   },
   "outputs": [],
   "source": [
    "# From leticia\n",
    "# def dice_coef(y_true, y_pred, smooth=1):\n",
    "#   intersection = K.sum(y_true * y_pred, axis=[1,2,3])\n",
    "#   union = K.sum(y_true, axis=[1,2,3]) + K.sum(y_pred, axis=[1,2,3])\n",
    "#   dice = K.mean((2. * intersection + smooth)/(union + smooth), axis=0)\n",
    "#   return dice\n",
    "\n",
    "# From towards data science\n",
    "\n",
    "def dice_coef(y_true, y_pred, smooth=1):\n",
    "    print('dice coef')\n",
    "    y_true_f = flatten(y_true)\n",
    "    y_pred_f = flatten(y_pred)\n",
    "    intersection = K.sum(y_true_f * y_pred_f)\n",
    "    union = K.sum(y_true_f) + K.sum(y_pred_f)\n",
    "    # print('coef intersection', intersection)\n",
    "    # print('coef union', union)\n",
    "    return (2 * intersection + smooth) / (union + smooth)\n",
    "\n",
    "\n",
    "def dice_loss(y_true, y_pred):\n",
    "    # print('dice loss')\n",
    "    return 1. - dice(y_true, y_pred)\n",
    "\n",
    "\n",
    "def dice(y_true, y_pred, smooth=1e-4):\n",
    "    # print('dice')\n",
    "    #flatten label and prediction tensors\n",
    "    # print(y_true, y_pred)\n",
    "    inputs = K.flatten(y_pred)\n",
    "    targets = K.flatten(y_true)\n",
    "    # print('dice gt', targets)\n",
    "    # print('dice pred', inputs)\n",
    "    # print(inputs.shape, targets.shape)\n",
    "    intersection = K.sum(targets * inputs)\n",
    "    union = K.sum(y_true) + K.sum(y_pred)\n",
    "    # print('dice intersection', intersection)\n",
    "    # print('dice union', union)\n",
    "    dice = (2. * intersection) / (union + smooth)\n",
    "    # print(dice)\n",
    "    return dice\n",
    "\n",
    "def bce_dice_loss(y_true, y_pred):\n",
    "    print('bce dice loss')\n",
    "    inputs = K.flatten(y_pred)\n",
    "    targets = K.flatten(y_true)\n",
    "    # print(targets.shape, inputs.shape)\n",
    "    bce =  losses.binary_crossentropy(targets, inputs)\n",
    "    dice_bce = bce + dice_loss(y_true, y_pred)\n",
    "    return dice_bce\n",
    "\n",
    "def iou(y_true, y_pred, smooth=1.):\n",
    "    print('iou')\n",
    "    y_true_f = K.flatten(y_true)\n",
    "    y_pred_f = K.flatten(y_pred)\n",
    "    intersection = K.sum(y_true_f * y_pred_f)\n",
    "    return (intersection + smooth) / (K.sum(y_true_f) + K.sum(y_pred_f) - intersection + smooth)\n",
    "\n",
    "def showHistory(history):\n",
    "    # list all data in history\n",
    "    print(history.history.keys())\n",
    "    fig = plt.figure(figsize=(10,6))\n",
    "\n",
    "    # summarize history for accuracy\n",
    "    plt.plot(history.history['dice'])\n",
    "    plt.plot(history.history['val_dice'])\n",
    "    plt.title('Model accuracy',fontsize=20)\n",
    "    plt.ylabel('Dice',fontsize=20)\n",
    "    plt.xlabel('Epoch',fontsize=20)\n",
    "    plt.legend(['Train', 'Val'], loc='center right',fontsize=20)\n",
    "    plt.tick_params(axis='both', which='major', labelsize=18)\n",
    "    plt.tick_params(axis='both', which='minor', labelsize=18)\n",
    "    plt.ylim([0.0, 1.0])\n",
    "    plt.show()\n",
    "\n",
    "    # summarize history for loss\n",
    "    fig = plt.figure(figsize=(10,6))\n",
    "    plt.plot(history.history['loss'])\n",
    "    plt.plot(history.history['val_loss'])\n",
    "    plt.title('Model Loss',fontsize=20)\n",
    "    plt.ylabel('Loss',fontsize=20)\n",
    "    plt.xlabel('Epoch',fontsize=20)\n",
    "    plt.legend(['Train', 'Val'], loc='center right',fontsize=20)\n",
    "    plt.tick_params(axis='both', which='major', labelsize=18)\n",
    "    plt.tick_params(axis='both', which='minor', labelsize=18)\n",
    "    plt.ylim([0.0, 1.0])\n",
    "    plt.show()\n",
    "    \n",
    "\n",
    "def sanity_check_generator(gen):\n",
    "    cols = 2\n",
    "    rows = 5\n",
    "    graph_row = 0\n",
    "\n",
    "    f, ax_arr = plt.subplots(rows, cols)\n",
    "    for idx, data in enumerate(gen):\n",
    "#         print('Batch {}|{}'.format(idx, gen.__len__()-1))\n",
    "        \n",
    "        img, target = data\n",
    "        \n",
    "        for j in range(len(img)):\n",
    "#             print('\\tImage {}|{}'.format(j, len(img)-1))\n",
    "            \n",
    "            ax_arr[graph_row,0].imshow(img[j])\n",
    "            ax_arr[graph_row,0].set_axis_off()\n",
    "            \n",
    "            ax_arr[graph_row,1].imshow(target[j])\n",
    "            ax_arr[graph_row,1].set_axis_off()\n",
    "            \n",
    "            graph_row += 1\n",
    "\n",
    "    plt.show()\n",
    "\n",
    "    \n",
    "def render_preds(val_gen, preds, worst_list=None):\n",
    "  \n",
    "    cols = 3\n",
    "    rows = 8\n",
    "    graph_row = 0\n",
    "    \n",
    "#     print(len(preds))\n",
    "    \n",
    "    f, ax_arr = plt.subplots(rows, cols)\n",
    "    for idx, data in enumerate(val_gen):\n",
    "\n",
    "        images, targets = data\n",
    "        \n",
    "        for j in range(len(images)):\n",
    "            \n",
    "            image = images[j]\n",
    "            target = targets[j]\n",
    "\n",
    "#             print('Trying: {}|{} {}'.format(j, len(images), graph_row))\n",
    "\n",
    "            if worst_list != None:\n",
    "                for entry in worst_list:\n",
    "                    if entry[0] == j:\n",
    "                        print('\\tRendering:', entry)\n",
    "                        ax_arr[graph_row,0].imshow(image)\n",
    "                        ax_arr[graph_row,1].imshow(target)\n",
    "                        ax_arr[graph_row,2].imshow(preds[j])\n",
    "                        \n",
    "                        ax_arr[graph_row,0].set_axis_off()\n",
    "                        ax_arr[graph_row,1].set_axis_off()\n",
    "                        ax_arr[graph_row,2].set_axis_off()\n",
    "                        \n",
    "                        graph_row += 1\n",
    "                        \n",
    "                        break\n",
    "\n",
    "                if graph_row == rows-1:\n",
    "                    break\n",
    "                        \n",
    "            else:\n",
    "                ax_arr[graph_row,0].imshow(image)\n",
    "                ax_arr[graph_row,1].imshow(target)\n",
    "                ax_arr[graph_row,2].imshow(preds[j])\n",
    "\n",
    "                ax_arr[graph_row,0].set_axis_off()\n",
    "                ax_arr[graph_row,1].set_axis_off()\n",
    "                ax_arr[graph_row,2].set_axis_off()\n",
    "\n",
    "                graph_row += 1\n",
    "\n",
    "                if j == rows-1:\n",
    "                    break\n",
    "                \n",
    "        plt.show()\n",
    "\n",
    "        break\n",
    "    \n",
    "    \n",
    "def get_timestamp():\n",
    "    now = datetime.now()\n",
    "\n",
    "    # dd/mm/YY H:M:S\n",
    "    dt_string = now.strftime(\"%Y-%m-%d_%H-%M\")\n",
    "#     print(\"date and time =\", dt_string)\n",
    "    \n",
    "    return dt_string"
   ]
  },
  {
   "cell_type": "code",
   "execution_count": 8,
   "metadata": {
    "id": "VsMwEIIHE6FH"
   },
   "outputs": [],
   "source": [
    "# # metrics sanity check\n",
    "# gt = tf.constant([[0., 0., 0., 0.],\n",
    "#                   [0., 1., 1., 0.],\n",
    "#                   [0., 1., 1., 0.],\n",
    "#                   [0., 0., 0., 0.]])\n",
    "\n",
    "# pd = tf.constant([[0., 0., 0., 0.],\n",
    "#                   [0., 1., 1., 0.],\n",
    "#                   [0., 1., 1., 0.],\n",
    "#                   [0., 0., 0., 0.]])\n",
    "\n",
    "# print('Types:', type(gt), type(pd))\n",
    "# print('\\nValues:', gt, pd)\n",
    "# print('\\nDices: {}\\n\\t{}'.format(dice(gt, pd), dice_coef(gt, pd)))\n",
    "# # print('\\nBCE Dice: {}'.format(bce_dice_loss(gt, pd)))"
   ]
  },
  {
   "cell_type": "code",
   "execution_count": 9,
   "metadata": {},
   "outputs": [
    {
     "data": {
      "image/png": "[encoded data removed]",
      "text/plain": [
       "<Figure size 640x480 with 10 Axes>"
      ]
     },
     "metadata": {},
     "output_type": "display_data"
    }
   ],
   "source": [
    "sanity_files = np.load('/home/leite/Workspace/db/segmentation/mockup/names_train.npy')\n",
    "sanity_generator = DataGenerator(2, (224,224,1), sanity_files)\n",
    "sanity_check_generator(sanity_generator)"
   ]
  },
  {
   "cell_type": "markdown",
   "metadata": {
    "id": "fUOllPzA5uA7"
   },
   "source": [
    "# Model"
   ]
  },
  {
   "cell_type": "code",
   "execution_count": 10,
   "metadata": {
    "id": "0vC5QB5K6EnH"
   },
   "outputs": [],
   "source": [
    "# # Leticia\n",
    "# def unet(input_size = (224,224,1)):\n",
    "#     inputs = Input(input_size)\n",
    "#     conv1 = Conv2D(64, 3, activation = 'relu', padding = 'same', kernel_initializer = 'he_normal')(inputs)\n",
    "#     conv1 = Conv2D(64, 3, activation = 'relu', padding = 'same', kernel_initializer = 'he_normal')(conv1)\n",
    "#     conv1 = BatchNormalization()(conv1)\n",
    "#     drop1 = Dropout(0.4)(conv1)\n",
    "#     pool1 = MaxPooling2D(pool_size=(2, 2))(conv1)\n",
    "    \n",
    "#     conv2 = Conv2D(128, 3, activation = 'relu', padding = 'same', kernel_initializer = 'he_normal')(pool1)\n",
    "#     conv2 = Conv2D(128, 3, activation = 'relu', padding = 'same', kernel_initializer = 'he_normal')(conv2)\n",
    "#     conv2 = BatchNormalization()(conv2)\n",
    "#     drop2 = Dropout(0.4)(conv2)\n",
    "#     pool2 = MaxPooling2D(pool_size=(2, 2))(conv2)\n",
    "    \n",
    "#     conv3 = Conv2D(256, 3, activation = 'relu', padding = 'same', kernel_initializer = 'he_normal')(pool2)\n",
    "#     conv3 = Conv2D(256, 3, activation = 'relu', padding = 'same', kernel_initializer = 'he_normal')(conv3)\n",
    "#     conv3 = BatchNormalization()(conv3)\n",
    "#     drop3 = Dropout(0.4)(conv3)\n",
    "#     pool3 = MaxPooling2D(pool_size=(2, 2))(conv3)\n",
    "    \n",
    "#     conv4 = Conv2D(512, 3, activation = 'relu', padding = 'same', kernel_initializer = 'he_normal')(pool3)\n",
    "#     conv4 = Conv2D(512, 3, activation = 'relu', padding = 'same', kernel_initializer = 'he_normal')(conv4)\n",
    "#     conv4 = BatchNormalization()(conv4)\n",
    "#     drop4 = Dropout(0.4)(conv4)\n",
    "#     pool4 = MaxPooling2D(pool_size=(2, 2))(conv4)\n",
    "\n",
    "#     conv5 = Conv2D(1024, 3, activation = 'relu', padding = 'same', kernel_initializer = 'he_normal')(pool4)\n",
    "#     conv5 = Conv2D(1024, 3, activation = 'relu', padding = 'same', kernel_initializer = 'he_normal')(conv5)\n",
    "#     drop5 = Dropout(0.4)(conv5)\n",
    "\n",
    "#     up6 = Conv2D(512, 2, activation = 'relu', padding = 'same', kernel_initializer = 'he_normal')(UpSampling2D(size = (2,2))(drop5))\n",
    "#     merge6 = concatenate([drop4,up6], axis = 3)\n",
    "#     drop6 = Dropout(0.4)(merge6)\n",
    "#     conv6 = Conv2D(512, 3, activation = 'relu', padding = 'same', kernel_initializer = 'he_normal')(drop6)\n",
    "#     conv6 = Conv2D(512, 3, activation = 'relu', padding = 'same', kernel_initializer = 'he_normal')(conv6)\n",
    "\n",
    "#     up7 = Conv2D(256, 2, activation = 'relu', padding = 'same', kernel_initializer = 'he_normal')(UpSampling2D(size = (2,2))(conv6))\n",
    "#     merge7 = concatenate([conv3,up7], axis = 3)\n",
    "#     drop7 = Dropout(0.4)(merge7)\n",
    "#     conv7 = Conv2D(256, 3, activation = 'relu', padding = 'same', kernel_initializer = 'he_normal')(drop7)\n",
    "#     conv7 = Conv2D(256, 3, activation = 'relu', padding = 'same', kernel_initializer = 'he_normal')(conv7)\n",
    "\n",
    "#     up8 = Conv2D(128, 2, activation = 'relu', padding = 'same', kernel_initializer = 'he_normal')(UpSampling2D(size = (2,2))(conv7))\n",
    "#     merge8 = concatenate([conv2,up8], axis = 3)\n",
    "#     drop8 = Dropout(0.4)(merge8)\n",
    "#     conv8 = Conv2D(128, 3, activation = 'relu', padding = 'same', kernel_initializer = 'he_normal')(drop8)\n",
    "#     conv8 = Conv2D(128, 3, activation = 'relu', padding = 'same', kernel_initializer = 'he_normal')(conv8)\n",
    "\n",
    "#     up9 = Conv2D(64, 2, activation = 'relu', padding = 'same', kernel_initializer = 'he_normal')(UpSampling2D(size = (2,2))(conv8))\n",
    "#     merge9 = concatenate([conv1,up9], axis = 3)\n",
    "#     drop9 = Dropout(0.4)(merge9)\n",
    "#     conv9 = Conv2D(64, 3, activation = 'relu', padding = 'same', kernel_initializer = 'he_normal')(drop9)\n",
    "#     conv9 = Conv2D(64, 3, activation = 'relu', padding = 'same', kernel_initializer = 'he_normal')(conv9)\n",
    "#     conv9 = Conv2D(2, 3, activation = 'relu', padding = 'same', kernel_initializer = 'he_normal')(conv9)\n",
    "#     conv10 = Conv2D(1, 1, activation = 'sigmoid', name='seg_output')(conv9)\n",
    "\n",
    "#     model = Model(inputs, conv10)\n",
    "\n",
    "#     return model"
   ]
  },
  {
   "cell_type": "code",
   "execution_count": 11,
   "metadata": {
    "id": "UaAyn5pD1RfN"
   },
   "outputs": [],
   "source": [
    "# Giovanna\n",
    "def unet(input_size = (224,224,1)):\n",
    "    inputs = Input(shape=input_size)\n",
    "    conv1 = Conv2D(16, 3, activation = 'relu', padding = 'same', kernel_initializer = 'he_normal')(inputs)\n",
    "    conv1 = Conv2D(16, 3, activation = 'relu', padding = 'same', kernel_initializer = 'he_normal')(conv1)\n",
    "    pool1 = MaxPooling2D(pool_size=(2, 2))(conv1)\n",
    "    conv2 = Conv2D(32, 3, activation = 'relu', padding = 'same', kernel_initializer = 'he_normal')(pool1)\n",
    "    conv2 = Conv2D(32, 3, activation = 'relu', padding = 'same', kernel_initializer = 'he_normal')(conv2)\n",
    "    pool2 = MaxPooling2D(pool_size=(2, 2))(conv2)\n",
    "    conv3 = Conv2D(64, 3, activation = 'relu', padding = 'same', kernel_initializer = 'he_normal')(pool2)\n",
    "    conv3 = Conv2D(64, 3, activation = 'relu', padding = 'same', kernel_initializer = 'he_normal')(conv3)\n",
    "    pool3 = MaxPooling2D(pool_size=(2, 2))(conv3)\n",
    "    conv4 = Conv2D(128, 3, activation = 'relu', padding = 'same', kernel_initializer = 'he_normal')(pool3)\n",
    "    conv4 = Conv2D(128, 3, activation = 'relu', padding = 'same', kernel_initializer = 'he_normal')(conv4)\n",
    "    drop4 = Dropout(0.5)(conv4)\n",
    "    pool4 = MaxPooling2D(pool_size=(2, 2))(drop4)\n",
    "\n",
    "    conv5 = Conv2D(256, 3, activation = 'relu', padding = 'same', kernel_initializer = 'he_normal')(pool4)\n",
    "    conv5 = Conv2D(256, 3, activation = 'relu', padding = 'same', kernel_initializer = 'he_normal')(conv5)\n",
    "    drop5 = Dropout(0.5)(conv5)\n",
    "\n",
    "    up6 = Conv2D(128, 2, activation = 'relu', padding = 'same', kernel_initializer = 'he_normal')(UpSampling2D(size = (2,2))(drop5))\n",
    "    merge6 = concatenate([conv4,up6], axis = 3)\n",
    "    conv6 = Conv2D(128, 3, activation = 'relu', padding = 'same', kernel_initializer = 'he_normal')(merge6)\n",
    "    conv6 = Conv2D(128, 3, activation = 'relu', padding = 'same', kernel_initializer = 'he_normal')(conv6)\n",
    "\n",
    "    up7 = Conv2D(64, 2, activation = 'relu', padding = 'same', kernel_initializer = 'he_normal')(UpSampling2D(size = (2,2))(conv6))\n",
    "    merge7 = concatenate([conv3,up7], axis = 3)\n",
    "    conv7 = Conv2D(64, 3, activation = 'relu', padding = 'same', kernel_initializer = 'he_normal')(merge7)\n",
    "    conv7 = Conv2D(64, 3, activation = 'relu', padding = 'same', kernel_initializer = 'he_normal')(conv7)\n",
    "\n",
    "    up8 = Conv2D(32, 2, activation = 'relu', padding = 'same', kernel_initializer = 'he_normal')(UpSampling2D(size = (2,2))(conv7))\n",
    "    merge8 = concatenate([conv2,up8], axis = 3)\n",
    "    conv8 = Conv2D(32, 3, activation = 'relu', padding = 'same', kernel_initializer = 'he_normal')(merge8)\n",
    "    conv8 = Conv2D(32, 3, activation = 'relu', padding = 'same', kernel_initializer = 'he_normal')(conv8)\n",
    "\n",
    "    up9 = Conv2D(16, 2, activation = 'relu', padding = 'same', kernel_initializer = 'he_normal')(UpSampling2D(size = (2,2))(conv8))\n",
    "    merge9 = concatenate([conv1,up9], axis = 3)\n",
    "    conv9 = Conv2D(16, 3, activation = 'relu', padding = 'same', kernel_initializer = 'he_normal')(merge9)\n",
    "    conv9 = Conv2D(16, 3, activation = 'relu', padding = 'same', kernel_initializer = 'he_normal')(conv9)\n",
    "    conv9 = Conv2D(2, 3, activation = 'relu', padding = 'same', kernel_initializer = 'he_normal')(conv9)\n",
    "    conv10 = Conv2D(1, 1, activation = 'sigmoid', name='seg_output')(conv9)\n",
    "\n",
    "    model = Model(inputs = [inputs], outputs = [conv10])\n",
    "\n",
    "    return model"
   ]
  },
  {
   "cell_type": "code",
   "execution_count": 12,
   "metadata": {
    "id": "WbiKYx6c2AgH"
   },
   "outputs": [],
   "source": [
    "def conv_batchnorm_relu_block(input_tensor, nb_filter, kernel_size=3):\n",
    "\n",
    "    x = Conv2D(nb_filter, (kernel_size, kernel_size), padding='same')(input_tensor)\n",
    "    x = BatchNormalization(axis=2)(x)\n",
    "    x = Activation('relu')(x)\n",
    "\n",
    "    return x\n",
    "\n",
    "def unet_plus_plus(input_shape, n_labels):\n",
    "    dropout_rate = 0.5\n",
    "    nb_filter = [32,64,128,256,512]\n",
    "\n",
    "    # Set image data format to channels first\n",
    "    global bn_axis\n",
    "\n",
    "    K.set_image_data_format(\"channels_last\")\n",
    "    bn_axis = -1\n",
    "    inputs = Input(shape=input_shape, name='input_image')\n",
    "\n",
    "    conv1_1 = conv_batchnorm_relu_block(inputs, nb_filter=nb_filter[0])\n",
    "    pool1 = AvgPool2D((2, 2), strides=(2, 2), name='pool1')(conv1_1)\n",
    "\n",
    "    conv2_1 = conv_batchnorm_relu_block(pool1, nb_filter=nb_filter[1])\n",
    "    pool2 = AvgPool2D((2, 2), strides=(2, 2), name='pool2')(conv2_1)\n",
    "\n",
    "    up1_2 = Conv2DTranspose(nb_filter[0], (2, 2), strides=(2, 2), name='up12', padding='same')(conv2_1)\n",
    "    conv1_2 = concatenate([up1_2, conv1_1], name='merge12', axis=bn_axis)\n",
    "    conv1_2 = conv_batchnorm_relu_block(conv1_2,  nb_filter=nb_filter[0])\n",
    "\n",
    "    conv3_1 = conv_batchnorm_relu_block(pool2, nb_filter=nb_filter[2])\n",
    "    pool3 = AvgPool2D((2, 2), strides=(2, 2), name='pool3')(conv3_1)\n",
    "\n",
    "    up2_2 = Conv2DTranspose(nb_filter[1], (2, 2), strides=(2, 2), name='up22', padding='same')(conv3_1)\n",
    "    conv2_2 = concatenate([up2_2, conv2_1], name='merge22', axis=bn_axis)\n",
    "    conv2_2 = conv_batchnorm_relu_block(conv2_2, nb_filter=nb_filter[1])\n",
    "\n",
    "    up1_3 = Conv2DTranspose(nb_filter[0], (2, 2), strides=(2, 2), name='up13', padding='same')(conv2_2)\n",
    "    conv1_3 = concatenate([up1_3, conv1_1, conv1_2], name='merge13', axis=bn_axis)\n",
    "    conv1_3 = conv_batchnorm_relu_block(conv1_3, nb_filter=nb_filter[0])\n",
    "\n",
    "    conv4_1 = conv_batchnorm_relu_block(pool3, nb_filter=nb_filter[3])\n",
    "    pool4 = AvgPool2D((2, 2), strides=(2, 2), name='pool4')(conv4_1)\n",
    "\n",
    "    up3_2 = Conv2DTranspose(nb_filter[2], (2, 2), strides=(2, 2), name='up32', padding='same')(conv4_1)\n",
    "    conv3_2 = concatenate([up3_2, conv3_1], name='merge32', axis=bn_axis)\n",
    "    conv3_2 = conv_batchnorm_relu_block(conv3_2, nb_filter=nb_filter[2])\n",
    "\n",
    "    up2_3 = Conv2DTranspose(nb_filter[1], (2, 2), strides=(2, 2), name='up23', padding='same')(conv3_2)\n",
    "    conv2_3 = concatenate([up2_3, conv2_1, conv2_2], name='merge23', axis=bn_axis)\n",
    "    conv2_3 = conv_batchnorm_relu_block(conv2_3, nb_filter=nb_filter[1])\n",
    "\n",
    "    up1_4 = Conv2DTranspose(nb_filter[0], (2, 2), strides=(2, 2), name='up14', padding='same')(conv2_3)\n",
    "    conv1_4 = concatenate([up1_4, conv1_1, conv1_2, conv1_3], name='merge14', axis=bn_axis)\n",
    "    conv1_4 = conv_batchnorm_relu_block(conv1_4, nb_filter=nb_filter[0])\n",
    "\n",
    "    conv5_1 = conv_batchnorm_relu_block(pool4, nb_filter=nb_filter[4])\n",
    "\n",
    "    up4_2 = Conv2DTranspose(nb_filter[3], (2, 2), strides=(2, 2), name='up42', padding='same')(conv5_1)\n",
    "    conv4_2 = concatenate([up4_2, conv4_1], name='merge42', axis=bn_axis)\n",
    "    conv4_2 = conv_batchnorm_relu_block(conv4_2, nb_filter=nb_filter[3])\n",
    "\n",
    "    up3_3 = Conv2DTranspose(nb_filter[2], (2, 2), strides=(2, 2), name='up33', padding='same')(conv4_2)\n",
    "    conv3_3 = concatenate([up3_3, conv3_1, conv3_2], name='merge33', axis=bn_axis)\n",
    "    conv3_3 = conv_batchnorm_relu_block(conv3_3, nb_filter=nb_filter[2])\n",
    "\n",
    "    up2_4 = Conv2DTranspose(nb_filter[1], (2, 2), strides=(2, 2), name='up24', padding='same')(conv3_3)\n",
    "    conv2_4 = concatenate([up2_4, conv2_1, conv2_2, conv2_3], name='merge24', axis=bn_axis)\n",
    "    conv2_4 = conv_batchnorm_relu_block(conv2_4, nb_filter=nb_filter[1])\n",
    "\n",
    "    up1_5 = Conv2DTranspose(nb_filter[0], (2, 2), strides=(2, 2), name='up15', padding='same')(conv2_4)\n",
    "    conv1_5 = concatenate([up1_5, conv1_1, conv1_2, conv1_3, conv1_4], name='merge15', axis=bn_axis)\n",
    "    conv1_5 = conv_batchnorm_relu_block(conv1_5, nb_filter=nb_filter[0])\n",
    "\n",
    "    nestnet_output_1 = Conv2D(n_labels, (1, 1), activation='sigmoid', name='output_1',padding='same')(conv1_2)\n",
    "    nestnet_output_2 = Conv2D(n_labels, (1, 1), activation='sigmoid', name='output_2', padding='same' )(conv1_3)\n",
    "    nestnet_output_3 = Conv2D(n_labels, (1, 1), activation='sigmoid', name='output_3', padding='same')(conv1_4)\n",
    "    nestnet_output_4 = Conv2D(n_labels, (1, 1), activation='sigmoid', padding='same', name='seg_output')(conv1_5)\n",
    "\n",
    "    model = Model(inputs=inputs, outputs=nestnet_output_4)\n",
    "\n",
    "    return model"
   ]
  },
  {
   "cell_type": "code",
   "execution_count": 13,
   "metadata": {
    "id": "OObJVvvmCChV"
   },
   "outputs": [],
   "source": [
    "def conv2d_bn(x, filters, num_row, num_col, padding='same', strides=(1, 1), activation='relu', name=None):\n",
    "    '''\n",
    "    2D Convolutional layers\n",
    "\n",
    "    Arguments:\n",
    "        x {keras layer} -- input layer\n",
    "        filters {int} -- number of filters\n",
    "        num_row {int} -- number of rows in filters\n",
    "        num_col {int} -- number of columns in filters\n",
    "\n",
    "    Keyword Arguments:\n",
    "        padding {str} -- mode of padding (default: {'same'})\n",
    "        strides {tuple} -- stride of convolution operation (default: {(1, 1)})\n",
    "        activation {str} -- activation function (default: {'relu'})\n",
    "        name {str} -- name of the layer (default: {None})\n",
    "\n",
    "    Returns:\n",
    "        [keras layer] -- [output layer]\n",
    "    '''\n",
    "\n",
    "    x = Conv2D(filters, (num_row, num_col), strides=strides, padding=padding, use_bias=False)(x)\n",
    "    x = BatchNormalization(axis=3, scale=False)(x)\n",
    "\n",
    "    if(activation == None):\n",
    "        return x\n",
    "\n",
    "    x = Activation(activation, name=name)(x)\n",
    "\n",
    "    return x\n",
    "\n",
    "\n",
    "def MultiResBlock(U, inp, alpha = 1.67):\n",
    "    '''\n",
    "    MultiRes Block\n",
    "\n",
    "    Arguments:\n",
    "        U {int} -- Number of filters in a corrsponding UNet stage\n",
    "        inp {keras layer} -- input layer\n",
    "\n",
    "    Returns:\n",
    "        [keras layer] -- [output layer]\n",
    "    '''\n",
    "\n",
    "    W = alpha * U\n",
    "\n",
    "    shortcut = inp\n",
    "\n",
    "    shortcut = conv2d_bn(shortcut, int(W*0.167) + int(W*0.333) +\n",
    "                         int(W*0.5), 1, 1, activation=None, padding='same')\n",
    "\n",
    "    conv3x3 = conv2d_bn(inp, int(W*0.167), 3, 3,\n",
    "                        activation='relu', padding='same')\n",
    "\n",
    "    conv5x5 = conv2d_bn(conv3x3, int(W*0.333), 3, 3,\n",
    "                        activation='relu', padding='same')\n",
    "\n",
    "    conv7x7 = conv2d_bn(conv5x5, int(W*0.5), 3, 3,\n",
    "                        activation='relu', padding='same')\n",
    "\n",
    "    out = concatenate([conv3x3, conv5x5, conv7x7], axis=3)\n",
    "    out = BatchNormalization(axis=3)(out)\n",
    "\n",
    "    out = add([shortcut, out])\n",
    "    out = Activation('relu')(out)\n",
    "    out = BatchNormalization(axis=3)(out)\n",
    "\n",
    "    return out\n",
    "\n",
    "\n",
    "def ResPath(filters, length, inp):\n",
    "    '''\n",
    "    ResPath\n",
    "\n",
    "    Arguments:\n",
    "        filters {int} -- [description]\n",
    "        length {int} -- length of ResPath\n",
    "        inp {keras layer} -- input layer\n",
    "\n",
    "    Returns:\n",
    "        [keras layer] -- [output layer]\n",
    "    '''\n",
    "\n",
    "\n",
    "    shortcut = inp\n",
    "    shortcut = conv2d_bn(shortcut, filters, 1, 1,\n",
    "                         activation=None, padding='same')\n",
    "\n",
    "    out = conv2d_bn(inp, filters, 3, 3, activation='relu', padding='same')\n",
    "\n",
    "    out = add([shortcut, out])\n",
    "    out = Activation('relu')(out)\n",
    "    out = BatchNormalization(axis=3)(out)\n",
    "\n",
    "    for i in range(length-1):\n",
    "\n",
    "        shortcut = out\n",
    "        shortcut = conv2d_bn(shortcut, filters, 1, 1,\n",
    "                             activation=None, padding='same')\n",
    "\n",
    "        out = conv2d_bn(out, filters, 3, 3, activation='relu', padding='same')\n",
    "\n",
    "        out = add([shortcut, out])\n",
    "        out = Activation('relu')(out)\n",
    "        out = BatchNormalization(axis=3)(out)\n",
    "\n",
    "    return out\n",
    "\n",
    "\n",
    "def MultiResUnet(height, width, n_channels):\n",
    "    '''\n",
    "    MultiResUNet\n",
    "\n",
    "    Arguments:\n",
    "        height {int} -- height of image\n",
    "        width {int} -- width of image\n",
    "        n_channels {int} -- number of channels in image\n",
    "\n",
    "    Returns:\n",
    "        [keras model] -- MultiResUNet model\n",
    "    '''\n",
    "\n",
    "    inputs = Input((height, width, n_channels))\n",
    "\n",
    "    mresblock1 = MultiResBlock(32, inputs)\n",
    "    pool1 = MaxPooling2D(pool_size=(2, 2))(mresblock1)\n",
    "    mresblock1 = ResPath(32, 4, mresblock1)\n",
    "\n",
    "    mresblock2 = MultiResBlock(32*2, pool1)\n",
    "    pool2 = MaxPooling2D(pool_size=(2, 2))(mresblock2)\n",
    "    mresblock2 = ResPath(32*2, 3, mresblock2)\n",
    "\n",
    "    mresblock3 = MultiResBlock(32*4, pool2)\n",
    "    pool3 = MaxPooling2D(pool_size=(2, 2))(mresblock3)\n",
    "    mresblock3 = ResPath(32*4, 2, mresblock3)\n",
    "\n",
    "    mresblock4 = MultiResBlock(32*8, pool3)\n",
    "    pool4 = MaxPooling2D(pool_size=(2, 2))(mresblock4)\n",
    "    mresblock4 = ResPath(32*8, 1, mresblock4)\n",
    "\n",
    "    mresblock5 = MultiResBlock(32*16, pool4)\n",
    "\n",
    "    up6 = concatenate([Conv2DTranspose(\n",
    "        32*8, (2, 2), strides=(2, 2), padding='same')(mresblock5), mresblock4], axis=3)\n",
    "    mresblock6 = MultiResBlock(32*8, up6)\n",
    "\n",
    "    up7 = concatenate([Conv2DTranspose(\n",
    "        32*4, (2, 2), strides=(2, 2), padding='same')(mresblock6), mresblock3], axis=3)\n",
    "    mresblock7 = MultiResBlock(32*4, up7)\n",
    "\n",
    "    up8 = concatenate([Conv2DTranspose(\n",
    "        32*2, (2, 2), strides=(2, 2), padding='same')(mresblock7), mresblock2], axis=3)\n",
    "    mresblock8 = MultiResBlock(32*2, up8)\n",
    "\n",
    "    up9 = concatenate([Conv2DTranspose(32, (2, 2), strides=(\n",
    "        2, 2), padding='same')(mresblock8), mresblock1], axis=3)\n",
    "    mresblock9 = MultiResBlock(32, up9)\n",
    "\n",
    "    conv10 = conv2d_bn(mresblock9, 1, 1, 1, activation='sigmoid', name='lung_output')\n",
    "\n",
    "    model = Model(inputs=[inputs], outputs=[conv10])\n",
    "\n",
    "    return model"
   ]
  },
  {
   "cell_type": "markdown",
   "metadata": {
    "id": "1bjZnW8T5wPB"
   },
   "source": [
    "# Training"
   ]
  },
  {
   "cell_type": "code",
   "execution_count": 14,
   "metadata": {
    "colab": {
     "base_uri": "https://localhost:8080/"
    },
    "id": "G8KSaBWY-ULk",
    "outputId": "1e697a18-d7a0-483d-c129-e4abdefffc49"
   },
   "outputs": [
    {
     "name": "stdout",
     "output_type": "stream",
     "text": [
      "/home/leite/Workspace/db/segmentation/mini-carvana/train/images/\n",
      "/home/leite/Workspace/db/segmentation/mini-carvana/val/images/\n"
     ]
    }
   ],
   "source": [
    "MODEL_NAME = 'unet' # [unet, unetpp, MultiResUnet]\n",
    "DB_NAME = 'mini-carvana'\n",
    "ROOT_DIR = '/home/leite/Workspace/db/segmentation/'\n",
    "SAVE_ROOT_DIR = '/home/leite/Workspace/runs/'\n",
    "\n",
    "BATCH_SIZE = 64\n",
    "VAL_BATCH = 16\n",
    "EPOCHS = 1000\n",
    "LEARNING_RATE = 1e-3\n",
    "\n",
    "TRAIN_PATH = os.path.join(ROOT_DIR, DB_NAME, 'train/images/')\n",
    "VAL_PATH = os.path.join(ROOT_DIR, DB_NAME, 'val/images/')\n",
    "\n",
    "print(TRAIN_PATH)\n",
    "print(VAL_PATH)"
   ]
  },
  {
   "cell_type": "code",
   "execution_count": 15,
   "metadata": {
    "id": "UqKYkGKSdlz4"
   },
   "outputs": [],
   "source": [
    "# train_file_names = os.listdir(TRAIN_PATH)\n",
    "# val_file_names = os.listdir(VAL_PATH)\n",
    "\n",
    "# train_file_names.sort()\n",
    "# val_file_names.sort()\n",
    "\n",
    "# train_file_names = [ os.path.join(TRAIN_PATH, f_name) for f_name in train_file_names ]\n",
    "# val_file_names = [ os.path.join(VAL_PATH, f_name) for f_name in val_file_names ]\n",
    "\n",
    "# np.save(ROOT_DIR + DB_NAME + '/names_train.npy', train_file_names)\n",
    "# np.save(ROOT_DIR + DB_NAME + '/names_val.npy', val_file_names)"
   ]
  },
  {
   "cell_type": "code",
   "execution_count": 16,
   "metadata": {
    "colab": {
     "base_uri": "https://localhost:8080/"
    },
    "id": "zxIfUgiI9GBZ",
    "outputId": "e88ce2d5-1e34-401b-bf3f-f2d42ef4b49e"
   },
   "outputs": [
    {
     "name": "stdout",
     "output_type": "stream",
     "text": [
      "Samples:\n",
      "train[0]: 384 /home/leite/Workspace/db/segmentation/mini-carvana/train/images/00087a6bd4dc_05.jpg\n",
      "val[0]: 32 /home/leite/Workspace/db/segmentation/mini-carvana/val/images/02159e548029_06.jpg\n"
     ]
    }
   ],
   "source": [
    "train_file_names = np.load(os.path.join(ROOT_DIR + DB_NAME, 'names_train.npy'))\n",
    "val_file_names = np.load(os.path.join(ROOT_DIR + DB_NAME, 'names_val.npy'))\n",
    "\n",
    "print('Samples:')\n",
    "print('train[0]:', len(train_file_names), train_file_names[0])\n",
    "print('val[0]:', len(val_file_names), val_file_names[0])"
   ]
  },
  {
   "cell_type": "code",
   "execution_count": 17,
   "metadata": {
    "id": "XP9GJOP-9O3g"
   },
   "outputs": [],
   "source": [
    "def goTrain():\n",
    "    image_size = (224,224,1)\n",
    "\n",
    "    training_generator = DataGenerator(BATCH_SIZE, image_size, train_file_names)\n",
    "    validation_generator = DataGenerator(VAL_BATCH, image_size, val_file_names, shuffle=False)\n",
    "\n",
    "    # sanity_check_generator(training_generator)\n",
    "    # sanity_check_generator(validation_generator)\n",
    "    # return\n",
    "  \n",
    "    custom_early_stopping = EarlyStopping(\n",
    "        monitor='val_loss', \n",
    "        patience=10,  \n",
    "        mode='min',\n",
    "        restore_best_weights=True,\n",
    "        verbose=1\n",
    "    )\n",
    "\n",
    "    reduce_lr = callbacks.ReduceLROnPlateau(\n",
    "        monitor=\"val_loss\",\n",
    "        factor=0.2,\n",
    "        patience=5,\n",
    "        verbose=1,\n",
    "        mode=\"auto\",\n",
    "        min_delta=0.0001,\n",
    "        cooldown=3,\n",
    "        min_lr=0,\n",
    "    )\n",
    "\n",
    "    model = None\n",
    "\n",
    "    if MODEL_NAME == 'unet':\n",
    "        model = unet()\n",
    "    elif MODEL_NAME == 'unetpp':\n",
    "        model = unet_plus_plus((224, 224, 1), 1)\n",
    "    elif MODEL_NAME == 'MultiResUnet':\n",
    "        model = MultiResUnet(224, 224, 1)\n",
    "        \n",
    "\n",
    "    optim = tf.keras.optimizers.Adam(\n",
    "        learning_rate=LEARNING_RATE,\n",
    "        beta_1=0.9,\n",
    "        beta_2=0.99\n",
    "    )\n",
    "    model.compile(\n",
    "        optimizer=optim,\n",
    "        loss=dice_loss,\n",
    "        metrics=[dice]\n",
    "    )\n",
    "  \n",
    "    # model.summary()\n",
    "\n",
    "    # checkpoint\n",
    "    # filepath=\"/content/drive/MyDrive/test_unet_keras/checkpoints/unet2D_exec_2022-05-11-EQE+{epoch:02d}.hdf5\"\n",
    "    # checkpoint = ModelCheckpoint(filepath, monitor='val_dice_coef', \n",
    "    #       verbose=1, save_best_only=True, mode='max')\n",
    "  \n",
    "  \n",
    "  # print(\"data prepared, ready to train!\")\n",
    "  #model.load_weights('/content/drive/MyDrive/Pesquisa-Doc/Colab Notebooks/check-unet-inter/fseg-dados_selecionados-dice/unet2D_exec_2022-04-27-EQE+52.hdf5')\n",
    "  #model.compile(optimizer = Adam(lr = 1e-4), loss = 'binary_crossentropy', metrics = [dice_coef])\n",
    "  \n",
    "  # Fit the model\n",
    "  # history_model = model.fit(training_generator, batch_size=32, epochs=10, validation_data=validation_generator)\n",
    "    history_model = model.fit(training_generator, batch_size=BATCH_SIZE, epochs=EPOCHS, validation_data=validation_generator, verbose=2, callbacks=[custom_early_stopping, reduce_lr])\n",
    "  # print('\\n---------------------')\n",
    "  # history_model = model.fit(generator=training_generator, validation_data=validation_generator, callbacks=[checkpoint, custom_early_stopping], epochs=4000, verbose=2)\n",
    "  # history_model = model.fit_generator(generator=training_generator, callbacks=[checkpoint, custom_early_stopping], epochs=150, verbose=2)\n",
    "    return model, history_model, validation_generator, training_generator"
   ]
  },
  {
   "cell_type": "markdown",
   "metadata": {
    "id": "THN83OtV5ztq"
   },
   "source": [
    "# Run"
   ]
  },
  {
   "cell_type": "code",
   "execution_count": 18,
   "metadata": {
    "colab": {
     "base_uri": "https://localhost:8080/"
    },
    "id": "xRbugi2A9RwV",
    "outputId": "010b928d-12fe-4e59-e8f3-29b6c79933c9"
   },
   "outputs": [
    {
     "name": "stdout",
     "output_type": "stream",
     "text": [
      "Epoch 1/1000\n",
      "6/6 - 12s - loss: 0.7030 - dice: 0.2970 - val_loss: 0.7013 - val_dice: 0.2987 - lr: 0.0010 - 12s/epoch - 2s/step\n",
      "Epoch 2/1000\n",
      "6/6 - 5s - loss: 0.6830 - dice: 0.3170 - val_loss: 0.6316 - val_dice: 0.3684 - lr: 0.0010 - 5s/epoch - 848ms/step\n",
      "Epoch 3/1000\n",
      "6/6 - 5s - loss: 0.5166 - dice: 0.4834 - val_loss: 0.3024 - val_dice: 0.6976 - lr: 0.0010 - 5s/epoch - 854ms/step\n",
      "Epoch 4/1000\n",
      "6/6 - 5s - loss: 0.2922 - dice: 0.7078 - val_loss: 0.2221 - val_dice: 0.7779 - lr: 0.0010 - 5s/epoch - 850ms/step\n",
      "Epoch 5/1000\n",
      "6/6 - 5s - loss: 0.2018 - dice: 0.7982 - val_loss: 0.2570 - val_dice: 0.7430 - lr: 0.0010 - 5s/epoch - 835ms/step\n",
      "Epoch 6/1000\n",
      "6/6 - 5s - loss: 0.1688 - dice: 0.8312 - val_loss: 0.1407 - val_dice: 0.8593 - lr: 0.0010 - 5s/epoch - 830ms/step\n",
      "Epoch 7/1000\n",
      "6/6 - 5s - loss: 0.1271 - dice: 0.8729 - val_loss: 0.1373 - val_dice: 0.8627 - lr: 0.0010 - 5s/epoch - 832ms/step\n",
      "Epoch 8/1000\n",
      "6/6 - 5s - loss: 0.1071 - dice: 0.8929 - val_loss: 0.1045 - val_dice: 0.8955 - lr: 0.0010 - 5s/epoch - 827ms/step\n",
      "Epoch 9/1000\n",
      "6/6 - 5s - loss: 0.1006 - dice: 0.8994 - val_loss: 0.1247 - val_dice: 0.8753 - lr: 0.0010 - 5s/epoch - 837ms/step\n",
      "Epoch 10/1000\n",
      "6/6 - 5s - loss: 0.0820 - dice: 0.9180 - val_loss: 0.1108 - val_dice: 0.8892 - lr: 0.0010 - 5s/epoch - 901ms/step\n",
      "Epoch 11/1000\n",
      "6/6 - 5s - loss: 0.0705 - dice: 0.9295 - val_loss: 0.0951 - val_dice: 0.9049 - lr: 0.0010 - 5s/epoch - 856ms/step\n",
      "Epoch 12/1000\n",
      "6/6 - 5s - loss: 0.0645 - dice: 0.9355 - val_loss: 0.0803 - val_dice: 0.9197 - lr: 0.0010 - 5s/epoch - 883ms/step\n",
      "Epoch 13/1000\n",
      "6/6 - 6s - loss: 0.0577 - dice: 0.9423 - val_loss: 0.0561 - val_dice: 0.9439 - lr: 0.0010 - 6s/epoch - 976ms/step\n",
      "Epoch 14/1000\n",
      "6/6 - 5s - loss: 0.0562 - dice: 0.9438 - val_loss: 0.0714 - val_dice: 0.9286 - lr: 0.0010 - 5s/epoch - 912ms/step\n",
      "Epoch 15/1000\n",
      "6/6 - 5s - loss: 0.0620 - dice: 0.9380 - val_loss: 0.0584 - val_dice: 0.9416 - lr: 0.0010 - 5s/epoch - 909ms/step\n",
      "Epoch 16/1000\n",
      "6/6 - 6s - loss: 0.0631 - dice: 0.9369 - val_loss: 0.0866 - val_dice: 0.9134 - lr: 0.0010 - 6s/epoch - 1s/step\n",
      "Epoch 17/1000\n",
      "6/6 - 5s - loss: 0.0649 - dice: 0.9351 - val_loss: 0.0662 - val_dice: 0.9338 - lr: 0.0010 - 5s/epoch - 892ms/step\n",
      "Epoch 18/1000\n",
      "\n",
      "Epoch 18: ReduceLROnPlateau reducing learning rate to 0.00020000000949949026.\n",
      "6/6 - 5s - loss: 0.0543 - dice: 0.9457 - val_loss: 0.0582 - val_dice: 0.9418 - lr: 0.0010 - 5s/epoch - 826ms/step\n",
      "Epoch 19/1000\n",
      "6/6 - 5s - loss: 0.0460 - dice: 0.9540 - val_loss: 0.0560 - val_dice: 0.9440 - lr: 2.0000e-04 - 5s/epoch - 825ms/step\n",
      "Epoch 20/1000\n",
      "6/6 - 5s - loss: 0.0422 - dice: 0.9578 - val_loss: 0.0523 - val_dice: 0.9477 - lr: 2.0000e-04 - 5s/epoch - 816ms/step\n",
      "Epoch 21/1000\n",
      "6/6 - 5s - loss: 0.0405 - dice: 0.9595 - val_loss: 0.0510 - val_dice: 0.9490 - lr: 2.0000e-04 - 5s/epoch - 814ms/step\n",
      "Epoch 22/1000\n",
      "6/6 - 5s - loss: 0.0392 - dice: 0.9608 - val_loss: 0.0525 - val_dice: 0.9475 - lr: 2.0000e-04 - 5s/epoch - 815ms/step\n",
      "Epoch 23/1000\n",
      "6/6 - 5s - loss: 0.0378 - dice: 0.9622 - val_loss: 0.0494 - val_dice: 0.9506 - lr: 2.0000e-04 - 5s/epoch - 828ms/step\n",
      "Epoch 24/1000\n",
      "6/6 - 5s - loss: 0.0368 - dice: 0.9632 - val_loss: 0.0468 - val_dice: 0.9532 - lr: 2.0000e-04 - 5s/epoch - 828ms/step\n",
      "Epoch 25/1000\n",
      "6/6 - 5s - loss: 0.0361 - dice: 0.9639 - val_loss: 0.0437 - val_dice: 0.9563 - lr: 2.0000e-04 - 5s/epoch - 863ms/step\n",
      "Epoch 26/1000\n",
      "6/6 - 5s - loss: 0.0354 - dice: 0.9646 - val_loss: 0.0456 - val_dice: 0.9544 - lr: 2.0000e-04 - 5s/epoch - 848ms/step\n",
      "Epoch 27/1000\n",
      "6/6 - 5s - loss: 0.0343 - dice: 0.9657 - val_loss: 0.0508 - val_dice: 0.9492 - lr: 2.0000e-04 - 5s/epoch - 911ms/step\n",
      "Epoch 28/1000\n",
      "6/6 - 5s - loss: 0.0333 - dice: 0.9667 - val_loss: 0.0483 - val_dice: 0.9517 - lr: 2.0000e-04 - 5s/epoch - 873ms/step\n",
      "Epoch 29/1000\n",
      "6/6 - 5s - loss: 0.0328 - dice: 0.9672 - val_loss: 0.0482 - val_dice: 0.9518 - lr: 2.0000e-04 - 5s/epoch - 841ms/step\n",
      "Epoch 30/1000\n",
      "\n",
      "Epoch 30: ReduceLROnPlateau reducing learning rate to 4.0000001899898055e-05.\n",
      "6/6 - 5s - loss: 0.0323 - dice: 0.9677 - val_loss: 0.0492 - val_dice: 0.9508 - lr: 2.0000e-04 - 5s/epoch - 820ms/step\n",
      "Epoch 31/1000\n",
      "6/6 - 5s - loss: 0.0316 - dice: 0.9684 - val_loss: 0.0455 - val_dice: 0.9545 - lr: 4.0000e-05 - 5s/epoch - 820ms/step\n",
      "Epoch 32/1000\n",
      "6/6 - 5s - loss: 0.0315 - dice: 0.9685 - val_loss: 0.0482 - val_dice: 0.9518 - lr: 4.0000e-05 - 5s/epoch - 832ms/step\n",
      "Epoch 33/1000\n",
      "6/6 - 5s - loss: 0.0315 - dice: 0.9685 - val_loss: 0.0467 - val_dice: 0.9533 - lr: 4.0000e-05 - 5s/epoch - 820ms/step\n",
      "Epoch 34/1000\n",
      "6/6 - 5s - loss: 0.0311 - dice: 0.9689 - val_loss: 0.0460 - val_dice: 0.9540 - lr: 4.0000e-05 - 5s/epoch - 829ms/step\n",
      "Epoch 35/1000\n",
      "Restoring model weights from the end of the best epoch: 25.\n",
      "6/6 - 5s - loss: 0.0310 - dice: 0.9690 - val_loss: 0.0469 - val_dice: 0.9531 - lr: 4.0000e-05 - 5s/epoch - 828ms/step\n",
      "Epoch 35: early stopping\n"
     ]
    }
   ],
   "source": [
    "model, model_history, val_gen, train_gen = goTrain()"
   ]
  },
  {
   "cell_type": "markdown",
   "metadata": {},
   "source": [
    "# Predictions"
   ]
  },
  {
   "cell_type": "code",
   "execution_count": 19,
   "metadata": {},
   "outputs": [
    {
     "name": "stdout",
     "output_type": "stream",
     "text": [
      "2/2 [==============================] - 1s 203ms/step\n"
     ]
    }
   ],
   "source": [
    "preds = model.predict(val_gen)"
   ]
  },
  {
   "cell_type": "code",
   "execution_count": 20,
   "metadata": {},
   "outputs": [],
   "source": [
    "def get_worst_preds_idx_list(preds, gen):\n",
    "    p_idx = 0\n",
    "    dice_dict = {}\n",
    "    \n",
    "    for idx, data in enumerate(gen):\n",
    "        _, gts = data\n",
    "        \n",
    "        for j in range(len(gts)):\n",
    "            gt = gts[j]\n",
    "            pred = preds[p_idx].astype('float')\n",
    "            \n",
    "#             print(type(gt), gt.dtype, type(pred), pred.dtype)\n",
    "            dice_dict[p_idx] = float(dice(gt, pred))\n",
    "            \n",
    "            p_idx += 1\n",
    "    \n",
    "    sorted_dict = sorted(dice_dict.items(), key=lambda item: item[1])\n",
    "    print(sorted_dict[:8])\n",
    "    return sorted_dict[:8]"
   ]
  },
  {
   "cell_type": "code",
   "execution_count": 21,
   "metadata": {},
   "outputs": [
    {
     "name": "stdout",
     "output_type": "stream",
     "text": [
      "[(23, 0.9233953357892022), (14, 0.9329038376595676), (21, 0.9377341144279701), (1, 0.9413111457662509), (9, 0.942864602190102), (0, 0.9472567884003738), (31, 0.9489653621910065), (7, 0.9508429396143991)]\n",
      "\tRendering: (0, 0.9472567884003738)\n",
      "\tRendering: (1, 0.9413111457662509)\n",
      "\tRendering: (7, 0.9508429396143991)\n",
      "\tRendering: (9, 0.942864602190102)\n",
      "\tRendering: (14, 0.9329038376595676)\n"
     ]
    },
    {
     "data": {
      "image/png": "[encoded data removed]",
      "text/plain": [
       "<Figure size 640x480 with 24 Axes>"
      ]
     },
     "metadata": {},
     "output_type": "display_data"
    }
   ],
   "source": [
    "worst_idxs = get_worst_preds_idx_list(preds, val_gen)\n",
    "render_preds(val_gen, preds, worst_idxs)"
   ]
  },
  {
   "cell_type": "markdown",
   "metadata": {},
   "source": [
    "# Save"
   ]
  },
  {
   "cell_type": "code",
   "execution_count": 22,
   "metadata": {},
   "outputs": [
    {
     "name": "stdout",
     "output_type": "stream",
     "text": [
      "/home/leite/Workspace/runs/models/unet/mini-carvana_unet_(2022-07-22_19-19)_batch-64_ep-(1000-1000)_lr-0.001.hdf5\n"
     ]
    }
   ],
   "source": [
    "model_folder = os.path.join(SAVE_ROOT_DIR, 'models', MODEL_NAME)\n",
    "graphs_folder = model_folder.replace('models', 'graphs')\n",
    "\n",
    "model_file_name = '{}_{}_({})_batch-{}_ep-({}-{})_lr-{}'.format(\n",
    "    DB_NAME,\n",
    "    MODEL_NAME,\n",
    "    get_timestamp(),\n",
    "    BATCH_SIZE,\n",
    "    EPOCHS,\n",
    "    EPOCHS,\n",
    "    LEARNING_RATE)\n",
    "\n",
    "if not os.path.isdir(model_folder):\n",
    "    os.makedirs(model_folder)\n",
    "    os.makedirs(graphs_folder)\n",
    "\n",
    "print(os.path.join(model_folder, model_file_name + '.hdf5'))\n",
    "# model.save(os.path.join(model_folder, model_file_name + '.hdf5'))"
   ]
  },
  {
   "cell_type": "code",
   "execution_count": 23,
   "metadata": {
    "colab": {
     "base_uri": "https://localhost:8080/",
     "height": 852
    },
    "id": "M31vXx6J1vG1",
    "outputId": "ac23cce3-2570-4fa4-fd00-71352f8e36b4"
   },
   "outputs": [
    {
     "name": "stdout",
     "output_type": "stream",
     "text": [
      "dict_keys(['loss', 'dice', 'val_loss', 'val_dice', 'lr'])\n"
     ]
    },
    {
     "data": {
      "image/png": "[encoded data removed]",
      "text/plain": [
       "<Figure size 1000x600 with 1 Axes>"
      ]
     },
     "metadata": {},
     "output_type": "display_data"
    },
    {
     "data": {
      "image/png": "[encoded data removed]",
      "text/plain": [
       "<Figure size 1000x600 with 1 Axes>"
      ]
     },
     "metadata": {},
     "output_type": "display_data"
    }
   ],
   "source": [
    "showHistory(model_history)"
   ]
  }
 ],
 "metadata": {
  "accelerator": "GPU",
  "colab": {
   "collapsed_sections": [],
   "name": "unet_keras.ipynb",
   "provenance": []
  },
  "gpuClass": "standard",
  "kernelspec": {
   "display_name": "Python 3",
   "language": "python",
   "name": "python3"
  },
  "language_info": {
   "codemirror_mode": {
    "name": "ipython",
    "version": 3
   },
   "file_extension": ".py",
   "mimetype": "text/x-python",
   "name": "python",
   "nbconvert_exporter": "python",
   "pygments_lexer": "ipython3",
   "version": "3.8.10"
  }
 },
 "nbformat": 4,
 "nbformat_minor": 1
}
